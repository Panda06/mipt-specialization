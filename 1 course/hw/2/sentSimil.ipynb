{
 "cells": [
  {
   "cell_type": "code",
   "execution_count": 1,
   "metadata": {
    "collapsed": true
   },
   "outputs": [],
   "source": [
    "import scipy.spatial\n",
    "import numpy as np\n",
    "import re"
   ]
  },
  {
   "cell_type": "code",
   "execution_count": 2,
   "metadata": {
    "collapsed": false
   },
   "outputs": [
    {
     "data": {
      "text/plain": [
       "22"
      ]
     },
     "execution_count": 2,
     "metadata": {},
     "output_type": "execute_result"
    }
   ],
   "source": [
    "t = list()\n",
    "with open(\"sentences.txt\", \"r\") as file:\n",
    "    sentences = file.readlines()\n",
    "for sentence in sentences:\n",
    "    t.append([word for word in re.split('[^a-z]', sentence.lower()) if word != ''])\n",
    "len(t)    "
   ]
  },
  {
   "cell_type": "code",
   "execution_count": 3,
   "metadata": {
    "collapsed": false
   },
   "outputs": [
    {
     "data": {
      "text/plain": [
       "254"
      ]
     },
     "execution_count": 3,
     "metadata": {},
     "output_type": "execute_result"
    }
   ],
   "source": [
    "words = dict()\n",
    "i = 0\n",
    "for sentence in t:\n",
    "    for word in sentence:\n",
    "        if word not in words:\n",
    "            words[word] = i\n",
    "            i += 1\n",
    "len(words)            "
   ]
  },
  {
   "cell_type": "code",
   "execution_count": 4,
   "metadata": {
    "collapsed": false
   },
   "outputs": [],
   "source": [
    "matrix = np.zeros((len(t), len(words)))\n",
    "for i in range(0, len(t)):\n",
    "    for word in t[i]:\n",
    "        matrix[i][words[word]] += 1"
   ]
  },
  {
   "cell_type": "code",
   "execution_count": 5,
   "metadata": {
    "collapsed": false
   },
   "outputs": [
    {
     "data": {
      "text/plain": [
       "array([[ 1.,  1.,  1., ...,  0.,  0.,  0.],\n",
       "       [ 0.,  0.,  1., ...,  0.,  0.,  0.],\n",
       "       [ 0.,  0.,  2., ...,  0.,  0.,  0.],\n",
       "       ..., \n",
       "       [ 0.,  0.,  0., ...,  0.,  0.,  0.],\n",
       "       [ 1.,  0.,  1., ...,  0.,  0.,  0.],\n",
       "       [ 0.,  0.,  1., ...,  1.,  1.,  1.]])"
      ]
     },
     "execution_count": 5,
     "metadata": {},
     "output_type": "execute_result"
    }
   ],
   "source": [
    "matrix"
   ]
  },
  {
   "cell_type": "code",
   "execution_count": 6,
   "metadata": {
    "collapsed": false
   },
   "outputs": [
    {
     "name": "stdout",
     "output_type": "stream",
     "text": [
      "6 4\n"
     ]
    }
   ],
   "source": [
    "distances = list()\n",
    "for i in range(len(sentences)):\n",
    "    distances.append((i, scipy.spatial.distance.cosine(matrix[0], matrix[i])))\n",
    "\n",
    "sorted_list = sorted(distances, key=lambda tup: tup[1])\n",
    "\n",
    "print sorted_list[1][0], sorted_list[2][0]"
   ]
  },
  {
   "cell_type": "code",
   "execution_count": 32,
   "metadata": {
    "collapsed": false
   },
   "outputs": [
    {
     "data": {
      "text/plain": [
       "array([ 3.43914511, -0.18692825])"
      ]
     },
     "execution_count": 32,
     "metadata": {},
     "output_type": "execute_result"
    }
   ],
   "source": [
    "def f (x):\n",
    "    return np.sin(x / 5.0) * np.exp(x / 10.0) + 5 * np.exp(-x / 2.0)\n",
    "x = np.array([1, 4, 8, 10, 15])\n",
    "n = 1\n",
    "A1 = [\n",
    "    [x[0] ** i for i in range(0, n+1)],\n",
    "    [x[4] ** i for i in range(0, n+1)]\n",
    "]\n",
    "B1 = [f(x[0]), f(x[4])]\n",
    "scipy.linalg.solve(A1, B1)"
   ]
  },
  {
   "cell_type": "code",
   "execution_count": 33,
   "metadata": {
    "collapsed": false
   },
   "outputs": [
    {
     "data": {
      "text/plain": [
       "array([ 3.32512949, -0.06531159, -0.00760104])"
      ]
     },
     "execution_count": 33,
     "metadata": {},
     "output_type": "execute_result"
    }
   ],
   "source": [
    "n = 2\n",
    "A1 = [\n",
    "    [x[0] ** i for i in range(0, n+1)],\n",
    "    [x[2] ** i for i in range(0, n+1)],\n",
    "    [x[4] ** i for i in range(0, n+1)]\n",
    "]\n",
    "B1 = [f(x[0]), f(x[2]), f(x[4])]\n",
    "scipy.linalg.solve(A1, B1)"
   ]
  },
  {
   "cell_type": "code",
   "execution_count": 37,
   "metadata": {
    "collapsed": false
   },
   "outputs": [
    {
     "data": {
      "text/plain": [
       "[4.3600000000000003, -1.3, 0.19, -0.01]"
      ]
     },
     "execution_count": 37,
     "metadata": {},
     "output_type": "execute_result"
    }
   ],
   "source": [
    "n = 3\n",
    "A1 = [\n",
    "    [x[0] ** i for i in range(0, n+1)],\n",
    "    [x[1] ** i for i in range(0, n+1)],\n",
    "    [x[3] ** i for i in range(0, n+1)],\n",
    "    [x[4] ** i for i in range(0, n+1)]\n",
    "]\n",
    "B1 = [f(x[0]), f(x[1]), f(x[3]), f(x[4])]\n",
    "ans = scipy.linalg.solve(A1, B1)\n",
    "map(lambda x: x.round(2), ans)"
   ]
  },
  {
   "cell_type": "code",
   "execution_count": 38,
   "metadata": {
    "collapsed": false
   },
   "outputs": [
    {
     "data": {
      "image/png": "[encoded data removed]",
      "text/plain": [
       "<matplotlib.figure.Figure at 0x8804630>"
      ]
     },
     "metadata": {},
     "output_type": "display_data"
    }
   ],
   "source": [
    "from matplotlib import pylab as plt\n",
    "plt.plot([x[0], x[1], x[3], x[4]], ans)\n",
    "plt.show()"
   ]
  },
  {
   "cell_type": "code",
   "execution_count": 36,
   "metadata": {
    "collapsed": false
   },
   "outputs": [
    {
     "data": {
      "image/png": "[encoded data removed]",
      "text/plain": [
       "<matplotlib.figure.Figure at 0x9210438>"
      ]
     },
     "metadata": {},
     "output_type": "display_data"
    }
   ],
   "source": [
    "x1 = np.arange(1, 15, 0.1)\n",
    "y = f(x1)\n",
    "plt.plot(x1, y)\n",
    "plt.show()"
   ]
  },
  {
   "cell_type": "code",
   "execution_count": 40,
   "metadata": {
    "collapsed": false
   },
   "outputs": [
    {
     "data": {
      "image/png": "[encoded data removed]",
      "text/plain": [
       "<matplotlib.figure.Figure at 0x8fdfb38>"
      ]
     },
     "metadata": {},
     "output_type": "display_data"
    }
   ],
   "source": [
    "plt.plot([x[0], x[1], x[3], x[4]], ans, 'o', x1, y, '-')\n",
    "plt.show()"
   ]
  },
  {
   "cell_type": "code",
   "execution_count": null,
   "metadata": {
    "collapsed": true
   },
   "outputs": [],
   "source": []
  }
 ],
 "metadata": {
  "kernelspec": {
   "display_name": "Python 2",
   "language": "python",
   "name": "python2"
  },
  "language_info": {
   "codemirror_mode": {
    "name": "ipython",
    "version": 2
   },
   "file_extension": ".py",
   "mimetype": "text/x-python",
   "name": "python",
   "nbconvert_exporter": "python",
   "pygments_lexer": "ipython2",
   "version": "2.7.13"
  }
 },
 "nbformat": 4,
 "nbformat_minor": 2
}
